{
  "nbformat": 4,
  "nbformat_minor": 0,
  "metadata": {
    "colab": {
      "provenance": [],
      "authorship_tag": "ABX9TyOmADlE1pkDiAzSInczzhrz",
      "include_colab_link": true
    },
    "kernelspec": {
      "name": "python3",
      "display_name": "Python 3"
    },
    "language_info": {
      "name": "python"
    }
  },
  "cells": [
    {
      "cell_type": "markdown",
      "metadata": {
        "id": "view-in-github",
        "colab_type": "text"
      },
      "source": [
        "<a href=\"https://colab.research.google.com/github/KAyush16/PyLibra/blob/main/basics_numpy.ipynb\" target=\"_parent\"><img src=\"https://colab.research.google.com/assets/colab-badge.svg\" alt=\"Open In Colab\"/></a>"
      ]
    },
    {
      "cell_type": "markdown",
      "source": [
        "Basics Of Numpy: Inserting, and chuturputur\n"
      ],
      "metadata": {
        "id": "jUlLAJuwV5Bc"
      }
    },
    {
      "cell_type": "code",
      "execution_count": null,
      "metadata": {
        "colab": {
          "base_uri": "https://localhost:8080/"
        },
        "id": "XFBZF3xNahas",
        "outputId": "75dd3c40-c582-4cc5-a990-fef7e6eced6e"
      },
      "outputs": [
        {
          "output_type": "stream",
          "name": "stdout",
          "text": [
            "[ 1  3  4 67  8]\n"
          ]
        }
      ],
      "source": [
        "import numpy as np\n",
        "\n",
        "a = np.array([1,3,4,67,8])\n",
        "print(a)"
      ]
    },
    {
      "cell_type": "code",
      "source": [
        "# 2d array and 3 d array\n",
        "b = np.array([[1,2,4], [ 4,6,8]],dtype=float)\n",
        "\n",
        "print (b)\n",
        "print()\n",
        "c= np.array([[[1,2],[2,4]],[[4,8],[7,9]]])\n",
        "print(c)"
      ],
      "metadata": {
        "colab": {
          "base_uri": "https://localhost:8080/"
        },
        "id": "ob_GyyulfRJO",
        "outputId": "15693cda-96bf-437a-98c4-007648b668d2"
      },
      "execution_count": null,
      "outputs": [
        {
          "output_type": "stream",
          "name": "stdout",
          "text": [
            "[[1. 2. 4.]\n",
            " [4. 6. 8.]]\n",
            "\n",
            "[[[1 2]\n",
            "  [2 4]]\n",
            "\n",
            " [[4 8]\n",
            "  [7 9]]]\n"
          ]
        }
      ]
    },
    {
      "cell_type": "code",
      "source": [
        "#np.arange and np.reshape\n",
        "np.arange(1,20,2).reshape(5,2)\n"
      ],
      "metadata": {
        "colab": {
          "base_uri": "https://localhost:8080/"
        },
        "id": "EZcBlic4g3Jx",
        "outputId": "ff51f596-e701-467f-a52f-784e7a543864"
      },
      "execution_count": null,
      "outputs": [
        {
          "output_type": "execute_result",
          "data": {
            "text/plain": [
              "array([[ 1,  3],\n",
              "       [ 5,  7],\n",
              "       [ 9, 11],\n",
              "       [13, 15],\n",
              "       [17, 19]])"
            ]
          },
          "metadata": {},
          "execution_count": 11
        }
      ]
    },
    {
      "cell_type": "code",
      "source": [
        "import numpy as np\n",
        "\n",
        "a1= np.arange(10)\n",
        "a2 = np.arange(12, dtype=float).reshape(3,4)\n",
        "a3 = np.arange(8).reshape(2,2,2)\n",
        "\n",
        "print(a2.size)\n",
        "print(a2.shape)\n",
        "print(a3)\n",
        "print(a2)\n"
      ],
      "metadata": {
        "colab": {
          "base_uri": "https://localhost:8080/"
        },
        "id": "4xaOQezbOU3F",
        "outputId": "b99a468e-aa4f-4fe3-ae18-262ada1d9555"
      },
      "execution_count": null,
      "outputs": [
        {
          "output_type": "stream",
          "name": "stdout",
          "text": [
            "12\n",
            "(3, 4)\n",
            "[[[0 1]\n",
            "  [2 3]]\n",
            "\n",
            " [[4 5]\n",
            "  [6 7]]]\n",
            "[[ 0.  1.  2.  3.]\n",
            " [ 4.  5.  6.  7.]\n",
            " [ 8.  9. 10. 11.]]\n"
          ]
        }
      ]
    },
    {
      "cell_type": "code",
      "source": [
        "# ndim(number of dimmensions)\n",
        "a1.ndim"
      ],
      "metadata": {
        "colab": {
          "base_uri": "https://localhost:8080/"
        },
        "id": "KASA3HlzQWGI",
        "outputId": "cbdd21af-4b4b-444e-a2c0-2d747a8b3f62"
      },
      "execution_count": null,
      "outputs": [
        {
          "output_type": "execute_result",
          "data": {
            "text/plain": [
              "1"
            ]
          },
          "metadata": {},
          "execution_count": 8
        }
      ]
    },
    {
      "cell_type": "markdown",
      "source": [
        "# Array Operations\n"
      ],
      "metadata": {
        "id": "NFNxkQ-aVsBp"
      }
    },
    {
      "cell_type": "code",
      "source": [
        "import numpy as np\n",
        "a1 = np.arange(12).reshape(3,4)\n",
        "a2 = np.arange(12,24).reshape(3,4)\n",
        "a2"
      ],
      "metadata": {
        "colab": {
          "base_uri": "https://localhost:8080/"
        },
        "id": "CYbtg6M5VzVJ",
        "outputId": "1b059876-cf3d-4a6b-8d0c-6cb099f8cd70"
      },
      "execution_count": null,
      "outputs": [
        {
          "output_type": "execute_result",
          "data": {
            "text/plain": [
              "array([[12, 13, 14, 15],\n",
              "       [16, 17, 18, 19],\n",
              "       [20, 21, 22, 23]])"
            ]
          },
          "metadata": {},
          "execution_count": 2
        }
      ]
    },
    {
      "cell_type": "code",
      "source": [
        "# Scalar Operations\n",
        "# Arithmetic\n",
        "print(a1**2)\n",
        "\n",
        "print(a1*2)\n",
        "\n",
        "print(a2+3)\n",
        "\n",
        "# realtions (this return true or false if the given condition is true or false: >, < , ==, >=, <=)\n",
        "a2==15\n"
      ],
      "metadata": {
        "colab": {
          "base_uri": "https://localhost:8080/"
        },
        "id": "jdMAYX1O65CM",
        "outputId": "c4394d1c-fc38-4dde-a111-a8dcd92ca2b7"
      },
      "execution_count": null,
      "outputs": [
        {
          "output_type": "stream",
          "name": "stdout",
          "text": [
            "[[  0   1   4   9]\n",
            " [ 16  25  36  49]\n",
            " [ 64  81 100 121]]\n",
            "[[ 0  2  4  6]\n",
            " [ 8 10 12 14]\n",
            " [16 18 20 22]]\n",
            "[[15 16 17 18]\n",
            " [19 20 21 22]\n",
            " [23 24 25 26]]\n"
          ]
        },
        {
          "output_type": "execute_result",
          "data": {
            "text/plain": [
              "array([[False, False, False,  True],\n",
              "       [False, False, False, False],\n",
              "       [False, False, False, False]])"
            ]
          },
          "metadata": {},
          "execution_count": 5
        }
      ]
    },
    {
      "cell_type": "code",
      "source": [
        "# Vector Operations\n",
        "# arithetic\n",
        "a1+a2"
      ],
      "metadata": {
        "colab": {
          "base_uri": "https://localhost:8080/"
        },
        "id": "rYgX_zdk7pON",
        "outputId": "576cb511-bebb-4586-840e-d238a79e35e3"
      },
      "execution_count": null,
      "outputs": [
        {
          "output_type": "execute_result",
          "data": {
            "text/plain": [
              "array([[12, 14, 16, 18],\n",
              "       [20, 22, 24, 26],\n",
              "       [28, 30, 32, 34]])"
            ]
          },
          "metadata": {},
          "execution_count": 6
        }
      ]
    },
    {
      "cell_type": "markdown",
      "source": [
        "Array Functions\n"
      ],
      "metadata": {
        "id": "5oadM3Gy-9Cf"
      }
    },
    {
      "cell_type": "code",
      "source": [
        "import numpy as np\n",
        "a1 = np.random.random((3,3))\n",
        "a1 = np.round(a1*100)\n",
        "a1"
      ],
      "metadata": {
        "colab": {
          "base_uri": "https://localhost:8080/"
        },
        "id": "vTfwNqpp-_YP",
        "outputId": "e9e51b0c-2431-45a0-af2d-5aa8daaabdc0"
      },
      "execution_count": null,
      "outputs": [
        {
          "output_type": "execute_result",
          "data": {
            "text/plain": [
              "array([[20., 31., 47.],\n",
              "       [ 8., 23.,  0.],\n",
              "       [75., 15., 10.]])"
            ]
          },
          "metadata": {},
          "execution_count": 5
        }
      ]
    },
    {
      "cell_type": "code",
      "source": [
        "# max/min/sum/prod\n",
        "# axis=  0-> column & 1-> row\n",
        "print(np.max(a1))\n",
        "print(np.min(a1))\n",
        "print(np.sum(a1))\n",
        "print(np.prod(a1))\n"
      ],
      "metadata": {
        "colab": {
          "base_uri": "https://localhost:8080/"
        },
        "id": "eg9cK1YuJCqT",
        "outputId": "19136bc7-b27f-448f-8c16-eeaa83ed76b0"
      },
      "execution_count": null,
      "outputs": [
        {
          "output_type": "stream",
          "name": "stdout",
          "text": [
            "84.0\n",
            "8.0\n",
            "434.0\n",
            "165090060430848.0\n"
          ]
        }
      ]
    },
    {
      "cell_type": "code",
      "source": [
        "# mean/median/standard variance(std)/variance(var)\n",
        "print(np.mean(a1,axis=0))\n",
        "print(np.median(a1))\n",
        "print(np.std(a1))\n",
        "print(np.var(a1))"
      ],
      "metadata": {
        "colab": {
          "base_uri": "https://localhost:8080/"
        },
        "id": "0CjoW0TfDWix",
        "outputId": "a44b9389-e6c4-4b19-fe8b-723a70429163"
      },
      "execution_count": null,
      "outputs": [
        {
          "output_type": "stream",
          "name": "stdout",
          "text": [
            "[34.33333333 23.         19.        ]\n",
            "20.0\n",
            "21.82308212833941\n",
            "476.24691358024694\n"
          ]
        }
      ]
    },
    {
      "cell_type": "markdown",
      "source": [
        "# Indexing and Slicing\n"
      ],
      "metadata": {
        "id": "7LkC5iyweebh"
      }
    },
    {
      "cell_type": "code",
      "source": [
        "import numpy as np\n",
        "a1 = np.arange(10)\n",
        "a2 = np.arange(12).reshape(3,4)\n",
        "a3 = np.arange(8).reshape(2,2,2)\n",
        "a3\n",
        "\n"
      ],
      "metadata": {
        "colab": {
          "base_uri": "https://localhost:8080/"
        },
        "id": "IsfngnYEepp3",
        "outputId": "bda49976-4745-4659-8f6d-f707b7e11110"
      },
      "execution_count": null,
      "outputs": [
        {
          "output_type": "execute_result",
          "data": {
            "text/plain": [
              "array([[[0, 1],\n",
              "        [2, 3]],\n",
              "\n",
              "       [[4, 5],\n",
              "        [6, 7]]])"
            ]
          },
          "metadata": {},
          "execution_count": 4
        }
      ]
    },
    {
      "cell_type": "code",
      "source": [
        "a2[1,0]"
      ],
      "metadata": {
        "colab": {
          "base_uri": "https://localhost:8080/"
        },
        "id": "XvBvyO_35vZ1",
        "outputId": "5d4c0e66-3406-4bcc-cf51-37bd1f549eae"
      },
      "execution_count": null,
      "outputs": [
        {
          "output_type": "execute_result",
          "data": {
            "text/plain": [
              "4"
            ]
          },
          "metadata": {},
          "execution_count": 3
        }
      ]
    },
    {
      "cell_type": "code",
      "source": [
        "a3[:,:,0]"
      ],
      "metadata": {
        "colab": {
          "base_uri": "https://localhost:8080/"
        },
        "id": "6AHWgtlm4mnQ",
        "outputId": "f454d664-1fab-4775-9603-de1a23d916ea"
      },
      "execution_count": null,
      "outputs": [
        {
          "output_type": "execute_result",
          "data": {
            "text/plain": [
              "array([[0, 2],\n",
              "       [4, 6]])"
            ]
          },
          "metadata": {},
          "execution_count": 7
        }
      ]
    },
    {
      "cell_type": "code",
      "source": [
        "a1 = np.arange(12).reshape(3,4)\n",
        "a2=np.arange(12,24).reshape(4,3)\n",
        "#print(a1)\n",
        "print(np.dot(a1,a2))\n",
        "#print(np.add(a1,a2))\n"
      ],
      "metadata": {
        "colab": {
          "base_uri": "https://localhost:8080/"
        },
        "id": "Wg7OrZc1DLFx",
        "outputId": "eb75dcb3-a18f-485f-b041-6e0b05f66173"
      },
      "execution_count": null,
      "outputs": [
        {
          "output_type": "stream",
          "name": "stdout",
          "text": [
            "[[114 120 126]\n",
            " [378 400 422]\n",
            " [642 680 718]]\n"
          ]
        }
      ]
    },
    {
      "cell_type": "markdown",
      "source": [
        "# Numpy Excersise"
      ],
      "metadata": {
        "id": "0gHtpoUEEgt1"
      }
    },
    {
      "cell_type": "code",
      "source": [
        "import numpy as np\n",
        "# create an array of 10 zeros\n",
        "print(np.zeros(10))\n",
        "# create an array of 10 ones\n",
        "print(np.ones(10))\n",
        "# create an array of 10 fives\n",
        "print(np.ones(10)*5)\n",
        "# create an array of integers from 10 to 50\n",
        "print(np.arange(10,51))\n",
        "# create a n array of all even integers from 10 to 50\n",
        "print(np.arange(10,51,2))\n",
        "#create a 3x3 matrix with values ranging from 0 to 8\n",
        "print(np.arange(9).reshape(3,3))\n",
        "#create a 3x3 identity matrix\n",
        "print(np.identity(3))\n",
        "# use numpy to generate a random numbers between 0 and 1\n",
        "print(np.random.rand(1))\n",
        "# use numpy to generate an array of 35 random numbers sampled from a standard distribution\n",
        "print(np.random.randint(25))\n",
        "print()\n",
        "# draw the mattrix with 10x10 space #or :  np.arange(0.01, 1.01, 0.01).reshape(10, 10)\n",
        "# or: np.arange(1,101).reshape(10,10) /100\n",
        "print(np.linspace(0.01,1.00,100).reshape(10,10))"
      ],
      "metadata": {
        "colab": {
          "base_uri": "https://localhost:8080/"
        },
        "id": "BNrgVFFTElq6",
        "outputId": "b760f491-4fce-4ae9-f635-dcb83aed32b5"
      },
      "execution_count": null,
      "outputs": [
        {
          "output_type": "stream",
          "name": "stdout",
          "text": [
            "[0. 0. 0. 0. 0. 0. 0. 0. 0. 0.]\n",
            "[1. 1. 1. 1. 1. 1. 1. 1. 1. 1.]\n",
            "[5. 5. 5. 5. 5. 5. 5. 5. 5. 5.]\n",
            "[10 11 12 13 14 15 16 17 18 19 20 21 22 23 24 25 26 27 28 29 30 31 32 33\n",
            " 34 35 36 37 38 39 40 41 42 43 44 45 46 47 48 49 50]\n",
            "[10 12 14 16 18 20 22 24 26 28 30 32 34 36 38 40 42 44 46 48 50]\n",
            "[[0 1 2]\n",
            " [3 4 5]\n",
            " [6 7 8]]\n",
            "[[1. 0. 0.]\n",
            " [0. 1. 0.]\n",
            " [0. 0. 1.]]\n",
            "[0.55758221]\n",
            "6\n",
            "\n",
            "[[0.01 0.02 0.03 0.04 0.05 0.06 0.07 0.08 0.09 0.1 ]\n",
            " [0.11 0.12 0.13 0.14 0.15 0.16 0.17 0.18 0.19 0.2 ]\n",
            " [0.21 0.22 0.23 0.24 0.25 0.26 0.27 0.28 0.29 0.3 ]\n",
            " [0.31 0.32 0.33 0.34 0.35 0.36 0.37 0.38 0.39 0.4 ]\n",
            " [0.41 0.42 0.43 0.44 0.45 0.46 0.47 0.48 0.49 0.5 ]\n",
            " [0.51 0.52 0.53 0.54 0.55 0.56 0.57 0.58 0.59 0.6 ]\n",
            " [0.61 0.62 0.63 0.64 0.65 0.66 0.67 0.68 0.69 0.7 ]\n",
            " [0.71 0.72 0.73 0.74 0.75 0.76 0.77 0.78 0.79 0.8 ]\n",
            " [0.81 0.82 0.83 0.84 0.85 0.86 0.87 0.88 0.89 0.9 ]\n",
            " [0.91 0.92 0.93 0.94 0.95 0.96 0.97 0.98 0.99 1.  ]]\n"
          ]
        }
      ]
    },
    {
      "cell_type": "code",
      "source": [
        "mat= np.arange(1,26).reshape(5,5)\n",
        "mat"
      ],
      "metadata": {
        "colab": {
          "base_uri": "https://localhost:8080/"
        },
        "id": "XirXYu0kNCaz",
        "outputId": "e0fbd486-ae37-4412-903d-6ffe8e8385d1"
      },
      "execution_count": null,
      "outputs": [
        {
          "output_type": "execute_result",
          "data": {
            "text/plain": [
              "array([[ 1,  2,  3,  4,  5],\n",
              "       [ 6,  7,  8,  9, 10],\n",
              "       [11, 12, 13, 14, 15],\n",
              "       [16, 17, 18, 19, 20],\n",
              "       [21, 22, 23, 24, 25]])"
            ]
          },
          "metadata": {},
          "execution_count": 38
        }
      ]
    },
    {
      "cell_type": "code",
      "source": [
        "mat[2:,1:]"
      ],
      "metadata": {
        "colab": {
          "base_uri": "https://localhost:8080/"
        },
        "id": "09qlCPZlNJ6V",
        "outputId": "2ce4daba-e95e-44da-e450-6e5d1bcb5f8c"
      },
      "execution_count": null,
      "outputs": [
        {
          "output_type": "execute_result",
          "data": {
            "text/plain": [
              "array([[12, 13, 14, 15],\n",
              "       [17, 18, 19, 20],\n",
              "       [22, 23, 24, 25]])"
            ]
          },
          "metadata": {},
          "execution_count": 39
        }
      ]
    },
    {
      "cell_type": "code",
      "source": [
        "#print 20\n",
        "mat[3,-1]"
      ],
      "metadata": {
        "colab": {
          "base_uri": "https://localhost:8080/"
        },
        "id": "ANeAEU-xNPwP",
        "outputId": "72b94c3d-1161-41c4-fa82-0afd9b157947"
      },
      "execution_count": null,
      "outputs": [
        {
          "output_type": "execute_result",
          "data": {
            "text/plain": [
              "20"
            ]
          },
          "metadata": {},
          "execution_count": 40
        }
      ]
    },
    {
      "cell_type": "code",
      "source": [
        "mat[:3,1].reshape(3,1)"
      ],
      "metadata": {
        "colab": {
          "base_uri": "https://localhost:8080/"
        },
        "id": "VYsEMUWWNbRA",
        "outputId": "676062a2-aebc-4380-d79c-2cd72a394c52"
      },
      "execution_count": null,
      "outputs": [
        {
          "output_type": "execute_result",
          "data": {
            "text/plain": [
              "array([[ 2],\n",
              "       [ 7],\n",
              "       [12]])"
            ]
          },
          "metadata": {},
          "execution_count": 44
        }
      ]
    },
    {
      "cell_type": "code",
      "source": [
        "# sum of all the values in mat\n",
        "print(np.sum(mat))\n",
        "# standard deviation in mat\n",
        "print(np.std(mat))\n",
        "#sum of all the columns in mat\n",
        "print((np.sum(mat,axis=0)))"
      ],
      "metadata": {
        "colab": {
          "base_uri": "https://localhost:8080/"
        },
        "id": "YOkazwStNvtN",
        "outputId": "f36c3d19-fc06-4a39-e4f0-9947ae59db46"
      },
      "execution_count": null,
      "outputs": [
        {
          "output_type": "stream",
          "name": "stdout",
          "text": [
            "325\n",
            "7.211102550927978\n",
            "[55 60 65 70 75]\n"
          ]
        }
      ]
    }
  ]
}