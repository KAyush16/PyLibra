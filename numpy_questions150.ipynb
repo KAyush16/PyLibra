{
  "nbformat": 4,
  "nbformat_minor": 0,
  "metadata": {
    "colab": {
      "provenance": [],
      "authorship_tag": "ABX9TyOlHxDXQ8/deZCDLHM8mh6w",
      "include_colab_link": true
    },
    "kernelspec": {
      "name": "python3",
      "display_name": "Python 3"
    },
    "language_info": {
      "name": "python"
    }
  },
  "cells": [
    {
      "cell_type": "markdown",
      "metadata": {
        "id": "view-in-github",
        "colab_type": "text"
      },
      "source": [
        "<a href=\"https://colab.research.google.com/github/KAyush16/PyLibra/blob/main/numpy_questions150.ipynb\" target=\"_parent\"><img src=\"https://colab.research.google.com/assets/colab-badge.svg\" alt=\"Open In Colab\"/></a>"
      ]
    },
    {
      "cell_type": "code",
      "execution_count": null,
      "metadata": {
        "id": "zswzTfesW_D1"
      },
      "outputs": [],
      "source": [
        "import numpy as np\n",
        "# arr = np.array([0, 1, 2, 3, 4, 5, 6, 7, 8, 9])"
      ]
    },
    {
      "cell_type": "code",
      "source": [
        "# Extract all odd numbers from arr\n",
        "arr = np.array([0, 1, 2, 3, 4, 5, 6, 7, 8, 9])\n",
        "print(arr[arr%2!=0])"
      ],
      "metadata": {
        "colab": {
          "base_uri": "https://localhost:8080/"
        },
        "id": "4CygzgEpXLTT",
        "outputId": "80d603b1-1889-4e53-93c8-123b897128a0"
      },
      "execution_count": null,
      "outputs": [
        {
          "output_type": "stream",
          "name": "stdout",
          "text": [
            "[1 3 5 7 9]\n"
          ]
        }
      ]
    },
    {
      "cell_type": "code",
      "source": [
        "# Replace all odd numbers in arr with -1\n",
        "arr[arr%2!=0]=-1\n",
        "print(arr)"
      ],
      "metadata": {
        "colab": {
          "base_uri": "https://localhost:8080/"
        },
        "id": "mhvEYW1MXdXZ",
        "outputId": "29a06860-aef4-459f-9d7a-80ba2eed6126"
      },
      "execution_count": null,
      "outputs": [
        {
          "output_type": "stream",
          "name": "stdout",
          "text": [
            "[ 0 -1  2 -1  4 -1  6 -1  8 -1]\n"
          ]
        }
      ]
    },
    {
      "cell_type": "code",
      "source": [
        "#Replace all odd numbers in arr with -1 without changing arr\n",
        "arr = np.array([0, 1, 2, 3, 4, 5, 6, 7, 8, 9])\n",
        "arr1 = arr.copy()\n",
        "arr1[arr1%2!=0]=-1\n",
        "print(arr1)\n",
        "print(arr)"
      ],
      "metadata": {
        "colab": {
          "base_uri": "https://localhost:8080/"
        },
        "id": "rwLTcPPmXjIA",
        "outputId": "4f62d946-c305-4118-fece-0dd4680cea0d"
      },
      "execution_count": null,
      "outputs": [
        {
          "output_type": "stream",
          "name": "stdout",
          "text": [
            "[ 0 -1  2 -1  4 -1  6 -1  8 -1]\n",
            "[0 1 2 3 4 5 6 7 8 9]\n"
          ]
        }
      ]
    },
    {
      "cell_type": "code",
      "source": [
        "# Convert a 1D array to a 2D array with 2 rows\n",
        "print(np.arange(10).reshape(2,5))"
      ],
      "metadata": {
        "colab": {
          "base_uri": "https://localhost:8080/"
        },
        "id": "BZQaD1wsXniA",
        "outputId": "1af741dc-3161-4b11-bfb2-ea0421472cf9"
      },
      "execution_count": null,
      "outputs": [
        {
          "output_type": "stream",
          "name": "stdout",
          "text": [
            "[[0 1 2 3 4]\n",
            " [5 6 7 8 9]]\n"
          ]
        }
      ]
    },
    {
      "cell_type": "code",
      "source": [
        "#Stack arrays a and b vertically and horizontally\n",
        "import numpy as np\n",
        "\n",
        "a = np.arange(10).reshape(2,5)\n",
        "b = np.arange(10,20).reshape(2,5)\n",
        "\n",
        "# Method 1: Corrected np.vstack usage\n",
        "result_vstack = np.vstack((a, b))\n",
        "result_hstack = np.hstack((a,b))\n",
        "print(result_vstack)\n",
        "print()\n",
        "print(result_hstack)\n",
        "print()\n",
        "# Method 2:\n",
        "result_concat = np.concatenate([a, b], axis=0) # to do horizontally: axis=1\n",
        "print(result_concat)"
      ],
      "metadata": {
        "colab": {
          "base_uri": "https://localhost:8080/"
        },
        "id": "We62EOc9XwKg",
        "outputId": "26bb4a49-6742-47ee-92e2-55402259150e"
      },
      "execution_count": null,
      "outputs": [
        {
          "output_type": "stream",
          "name": "stdout",
          "text": [
            "[[ 0  1  2  3  4]\n",
            " [ 5  6  7  8  9]\n",
            " [10 11 12 13 14]\n",
            " [15 16 17 18 19]]\n",
            "\n",
            "[[ 0  1  2  3  4 10 11 12 13 14]\n",
            " [ 5  6  7  8  9 15 16 17 18 19]]\n",
            "\n",
            "[[ 0  1  2  3  4]\n",
            " [ 5  6  7  8  9]\n",
            " [10 11 12 13 14]\n",
            " [15 16 17 18 19]]\n"
          ]
        }
      ]
    },
    {
      "cell_type": "code",
      "source": [
        "#Create the following pattern without hardcoding. Use only numpy functions and the below input array a.\n",
        "# a = np.array([1,2,3])\n",
        "# pattern : > array([1, 1, 1, 2, 2, 2, 3, 3, 3, 1, 2, 3, 1, 2, 3, 1, 2, 3])\n",
        "\n",
        "import numpy as np\n",
        "\n",
        "a = np.array([1, 2, 3])\n",
        "\n",
        "# Step 1: Repeat each element of 'a' three times\n",
        "repeated = np.repeat(a, 3)\n",
        "\n",
        "# Step 2: Tile the original array 'a' three times\n",
        "tiled = np.tile(a, 3)\n",
        "\n",
        "# Step 3: Concatenate the two arrays to form the final pattern\n",
        "pattern = np.concatenate((repeated, tiled))\n",
        "\n",
        "print(pattern)\n",
        "\n"
      ],
      "metadata": {
        "id": "cATvzAtJY_15",
        "colab": {
          "base_uri": "https://localhost:8080/"
        },
        "outputId": "091d10ff-0c7b-40b0-aaa2-f9e2c4eb791e"
      },
      "execution_count": null,
      "outputs": [
        {
          "output_type": "stream",
          "name": "stdout",
          "text": [
            "[1 1 1 2 2 2 3 3 3 1 2 3 1 2 3 1 2 3]\n"
          ]
        }
      ]
    },
    {
      "cell_type": "code",
      "source": [
        "# from binascii import b2a_hqx\n",
        "# Get the common items between a and b : (.intersect1d)\n",
        "a = np.array([1,2,3,2,3,4,3,4,5,6])\n",
        "b = np.array([7,2,10,2,7,4,9,4,9,8])\n",
        "common_elements = np.intersect1d(a,b)\n",
        "print(common_elements)"
      ],
      "metadata": {
        "colab": {
          "base_uri": "https://localhost:8080/"
        },
        "id": "4rjp5D7r2Pcz",
        "outputId": "1aa68e07-6590-4445-c9e7-362cecb139eb"
      },
      "execution_count": null,
      "outputs": [
        {
          "output_type": "stream",
          "name": "stdout",
          "text": [
            "[2 4]\n"
          ]
        }
      ]
    },
    {
      "cell_type": "code",
      "source": [
        "# \"From array a remove all items present in array b\"\n",
        "# numpy.setdiff1d() : function find the set difference of two arrays and return the unique values in arr1 that are not in arr2.\n",
        "a = np.array([1,2,3,4,5])\n",
        "b = np.array([5,6,7,8,9])\n",
        "remove_items = np.setdiff1d(a,b)\n",
        "print(remove_items)\n"
      ],
      "metadata": {
        "id": "myLrQoDe23mV"
      },
      "execution_count": null,
      "outputs": []
    },
    {
      "cell_type": "code",
      "source": [
        "# Get the positions where elements of a and b match\n",
        "a = np.array([1,2,3,2,3,4,3,4,5,6])\n",
        "b = np.array([7,2,10,2,7,4,9,4,9,8])\n",
        "np.where(a==b)"
      ],
      "metadata": {
        "colab": {
          "base_uri": "https://localhost:8080/"
        },
        "id": "Fd7xvMSG8Bv-",
        "outputId": "535ba609-ecfd-4d32-d5f3-fb961e52ea99"
      },
      "execution_count": null,
      "outputs": [
        {
          "output_type": "execute_result",
          "data": {
            "text/plain": [
              "(array([1, 3, 5, 7]),)"
            ]
          },
          "metadata": {},
          "execution_count": 11
        }
      ]
    },
    {
      "cell_type": "markdown",
      "source": [
        " How to make a python function that handles scalars to work on numpy arrays?"
      ],
      "metadata": {
        "id": "w86PvdVR_BOq"
      }
    },
    {
      "cell_type": "code",
      "source": [
        "# Convert the function maxx that works on two scalars, to work on two arrays.\n",
        "'''\n",
        "def maxx(x, y):\n",
        "    \"\"\"Get the maximum of two items\"\"\"\n",
        "    if x >= y:\n",
        "        return x\n",
        "    else:\n",
        "        return y\n",
        "\n",
        "maxx(1, 5)\n",
        "'''\n",
        "a = np.array([5, 7, 9, 8, 6, 4, 5])\n",
        "b = np.array([6, 3, 4, 8, 9, 7, 1])\n",
        "#> array([ 6.,  7.,  9.,  8.,  9.,  7.,  5.])\n",
        "\n",
        "def pair_max(a, b):\n",
        "    result = []\n",
        "    for i, j in zip(a, b): #zip(a, b): This function pairs corresponding elements from a and b.\n",
        "        if i > j:\n",
        "            result.append(i)\n",
        "        else:\n",
        "            result.append(j)\n",
        "    return np.array(result)\n",
        "\n",
        "output = pair_max(a, b)\n",
        "output"
      ],
      "metadata": {
        "colab": {
          "base_uri": "https://localhost:8080/"
        },
        "id": "5Wp5p4fK9OLa",
        "outputId": "3cc15b58-e3e6-45bd-810d-a75eb9d58315"
      },
      "execution_count": null,
      "outputs": [
        {
          "output_type": "execute_result",
          "data": {
            "text/plain": [
              "array([6, 7, 9, 8, 9, 7, 5])"
            ]
          },
          "metadata": {},
          "execution_count": 16
        }
      ]
    },
    {
      "cell_type": "code",
      "source": [
        "# swaping rows and columns\n",
        "arr = np.arange(9).reshape(3,3)\n",
        "print(arr)\n",
        "print()\n",
        "print(arr[:,[1,0,2]]) # swapping column\n",
        "print()\n",
        "print(arr[[0,2,1],:]) # swapping row"
      ],
      "metadata": {
        "colab": {
          "base_uri": "https://localhost:8080/"
        },
        "id": "YeZJKP8CA4pH",
        "outputId": "3f1d736b-04f3-4ffd-b9f1-1e913a08e88f"
      },
      "execution_count": null,
      "outputs": [
        {
          "output_type": "stream",
          "name": "stdout",
          "text": [
            "[[0 1 2]\n",
            " [3 4 5]\n",
            " [6 7 8]]\n",
            "\n",
            "[[1 0 2]\n",
            " [4 3 5]\n",
            " [7 6 8]]\n",
            "\n",
            "[[0 1 2]\n",
            " [6 7 8]\n",
            " [3 4 5]]\n"
          ]
        }
      ]
    },
    {
      "cell_type": "code",
      "source": [
        "#  Create a 2D array of shape 5x3 to contain random decimal numbers between 5 and 10.\n",
        "import numpy as np\n",
        "np.random.uniform(5,10,(5,3))"
      ],
      "metadata": {
        "colab": {
          "base_uri": "https://localhost:8080/"
        },
        "id": "bZ0HE16kDBr9",
        "outputId": "aacc3ab9-0086-4134-c559-c655b11a980d"
      },
      "execution_count": null,
      "outputs": [
        {
          "output_type": "execute_result",
          "data": {
            "text/plain": [
              "array([[9.04101579, 9.69555694, 6.30631527],\n",
              "       [6.98160414, 5.5233137 , 8.40909309],\n",
              "       [6.41841594, 6.37306058, 5.53424599],\n",
              "       [9.55687066, 7.24607663, 8.48318979],\n",
              "       [6.06032589, 8.52127609, 7.9127903 ]])"
            ]
          },
          "metadata": {},
          "execution_count": 12
        }
      ]
    },
    {
      "cell_type": "markdown",
      "source": [
        " How to limit the number of items printed in output of numpy array?\n",
        "\n",
        " > To limit the number of items printed in a NumPy array, you can use the \"np.set_printoptions\" function."
      ],
      "metadata": {
        "id": "XjyhyBYhGi7v"
      }
    },
    {
      "cell_type": "code",
      "source": [
        "#  Limit the number of items printed in python numpy array a to a maximum of 6 elements.\n",
        "# i/p : array([ 0,  1,  2,  3,  4,  5,  6,  7,  8,  9, 10, 11, 12, 13, 14])\n",
        "# o/p : array([ 0,  1,  2, ..., 12, 13, 14])\n",
        "np.set_printoptions(threshold=6)\n",
        "a = np.arange(15)\n",
        "a"
      ],
      "metadata": {
        "id": "Bw3rqeuAFVLQ",
        "colab": {
          "base_uri": "https://localhost:8080/"
        },
        "outputId": "2e09b36c-6226-45a8-e352-4bc5b8c05ccb"
      },
      "execution_count": null,
      "outputs": [
        {
          "output_type": "execute_result",
          "data": {
            "text/plain": [
              "array([ 0,  1,  2, ..., 12, 13, 14])"
            ]
          },
          "metadata": {},
          "execution_count": 17
        }
      ]
    },
    {
      "cell_type": "markdown",
      "source": [
        "# Importing a dataset with numbers and texts keeping the text intact in python numpy"
      ],
      "metadata": {
        "id": "l31Ra7CI7xcu"
      }
    },
    {
      "cell_type": "code",
      "source": [
        "url = 'https://archive.ics.uci.edu/ml/machine-learning-databases/iris/iris.data'\n",
        "iris = np.genfromtxt(url, delimiter=',', dtype='object')\n",
        "names = ('sepallength', 'sepalwidth', 'petallength', 'petalwidth', 'species')"
      ],
      "metadata": {
        "id": "1EOgOFnB767V"
      },
      "execution_count": null,
      "outputs": []
    }
  ]
}